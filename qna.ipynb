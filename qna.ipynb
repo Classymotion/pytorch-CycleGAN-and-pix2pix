{
  "nbformat": 4,
  "nbformat_minor": 0,
  "metadata": {
    "colab": {
      "provenance": [],
      "include_colab_link": true
    },
    "kernelspec": {
      "name": "python3",
      "display_name": "Python 3"
    },
    "language_info": {
      "name": "python"
    }
  },
  "cells": [
    {
      "cell_type": "markdown",
      "metadata": {
        "id": "view-in-github",
        "colab_type": "text"
      },
      "source": [
        "<a href=\"https://colab.research.google.com/github/Classymotion/pytorch-CycleGAN-and-pix2pix/blob/master/qna.ipynb\" target=\"_parent\"><img src=\"https://colab.research.google.com/assets/colab-badge.svg\" alt=\"Open In Colab\"/></a>"
      ]
    },
    {
      "cell_type": "code",
      "source": [
        "import torch\n",
        "import numpy as np\n",
        "import random\n",
        "\n",
        "class PA():\n",
        "    def __init__(self):\n",
        "\n",
        "        import os\n",
        "        from transformers import PreTrainedTokenizerFast\n",
        "        self.tokenizer = PreTrainedTokenizerFast.from_pretrained('model_save', bos_token='<|startoftext|>', eos_token='<|endoftext|>', pad_token='<|pad|>')       \n",
        "        os.environ[\"TOKENIZERS_PARALLELISM\"] = \"false\"\n",
        "        \n",
        "        from transformers import AutoModelForCausalLM\n",
        "        self.model =  AutoModelForCausalLM.from_pretrained('model_save')\n",
        "\n",
        "        # this step is necessary because I've added some tokens (bos_token, etc) to the embeddings\n",
        "        # otherwise the tokenizer and model tensors won't match up\n",
        "        self.model.resize_token_embeddings(len(self.tokenizer))\n",
        "\n",
        "        # Tell pytorch to run this model on the GPU.\n",
        "        self.device = torch.device(\"cuda\") \n",
        "        self.model.cuda()\n",
        "\n",
        "        # Set the seed value all over the place to make this reproducible.\n",
        "        seed_val = 42\n",
        "\n",
        "        random.seed(seed_val)\n",
        "        np.random.seed(seed_val)\n",
        "        torch.manual_seed(seed_val)\n",
        "        torch.cuda.manual_seed_all(seed_val)\n",
        "        \n",
        "    def question_and_answer(self, prompt): \n",
        "        generated = torch.tensor(self.tokenizer.encode(prompt)).unsqueeze(0)\n",
        "        generated = generated.to(self.device)\n",
        "\n",
        "        sample_outputs = self.model.generate(\n",
        "                                          generated, \n",
        "                                          #bos_token_id=random.randint(1,30000),\n",
        "                                          do_sample=True,   \n",
        "                                          top_k=50, \n",
        "                                          max_length = 300,\n",
        "                                          top_p=0.95, \n",
        "                                          #num_return_sequences=10,\n",
        "                                          )\n",
        "        answer = self.tokenizer.decode(sample_outputs[0], skip_special_tokens=True)\n",
        "        return answer\n",
        "    \n",
        "    def recursive_questioning(self, prompt, n_attempts):\n",
        "        answer = self.question_and_answer(prompt)\n",
        "        n_attempts += 1\n",
        "        if n_attempts > 10:\n",
        "            return answer # 1) is to be called\n",
        "\n",
        "        prefix = prompt + \" 답변:\"\n",
        "        if answer.startswith(prefix) and answer.count('답변:') == 1 and answer.count('질문:') == 0:\n",
        "            ai_answer = answer.replace(prefix, \"AI: \")\n",
        "            return(ai_answer)\n",
        "        else:\n",
        "            # 2) Wrong syntax ###################################\n",
        "            # recursive_questioning(prompt, n_attempts)\n",
        "            # return <- this is returned before 1) is returned\n",
        "            #####################################################\n",
        "\n",
        "            # 3) Right syntax ###################################\n",
        "            return self.recursive_questioning(prompt, n_attempts)\n",
        "            #####################################################\n",
        "            \n",
        "    def start_session(self):\n",
        "        n_attempts = 0\n",
        "        for i in range(4):\n",
        "            prompt = input('Q: ')\n",
        "            if prompt == '1':\n",
        "                #%run pol_defects.ipynb\n",
        "                #self.show_poldefects();\n",
        "                self.show_fig()\n",
        "                continue\n",
        "            qna_answer = self.recursive_questioning(prompt, n_attempts)\n",
        "            print(qna_answer)\n",
        "                       \n",
        "    def show_poldefects(self):\n",
        "        import numpy as np\n",
        "        import matplotlib.pyplot as plt\n",
        "        import seaborn as sns\n",
        "        import pandas as pd\n",
        "        #matplotlib inline\n",
        "\n",
        "        columns = ['norm_size', 'defects', 'data']\n",
        "\n",
        "        # Load the data\n",
        "        df = pd.read_csv('SYE_data.csv', names=columns)\n",
        "\n",
        "        def show_table():  \n",
        "            # Load the data\n",
        "            return pd.read_csv('SYE_data.csv', names=columns)\n",
        "\n",
        "        def show_graph():\n",
        "            sns.lmplot(x ='norm_size', y ='defects', data = df, hue ='data', markers =['o', 'v'], aspect = 2)\n",
        "\n",
        "        #show_table().head()\n",
        "        show_graph()\n",
        "\n",
        "    def show_fig(self):\n",
        "        fig = MyData()\n",
        "        fig.plot()\n",
        "\n",
        "        \n",
        "import matplotlib.pyplot as plt\n",
        "class MyData:\n",
        "  def __init__(self):\n",
        "    self.data = [1, 2, 3]\n",
        "    self.time = [2, 5, 4]\n",
        "\n",
        "  def plot(self):\n",
        "    plt.plot(self.time, self.data)\n",
        "    plt.show()\n",
        "    print('ok')\n",
        "    \n"
      ],
      "metadata": {
        "id": "iwK1eiaf24jA"
      },
      "execution_count": 5,
      "outputs": []
    },
    {
      "cell_type": "code",
      "source": [
        "fig = MyData()\n",
        "fig.plot()"
      ],
      "metadata": {
        "colab": {
          "base_uri": "https://localhost:8080/",
          "height": 448
        },
        "id": "4TBasTWA2_kJ",
        "outputId": "4766b143-bc9a-4c5e-952e-391b3a7a9b8c"
      },
      "execution_count": 6,
      "outputs": [
        {
          "output_type": "display_data",
          "data": {
            "text/plain": [
              "<Figure size 640x480 with 1 Axes>"
            ],
            "image/png": "[encoded data removed]"
          },
          "metadata": {}
        },
        {
          "output_type": "stream",
          "name": "stdout",
          "text": [
            "ok\n"
          ]
        }
      ]
    }
  ]
}